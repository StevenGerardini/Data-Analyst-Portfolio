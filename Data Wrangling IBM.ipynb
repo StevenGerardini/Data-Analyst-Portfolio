{
 "cells": [
  {
   "cell_type": "markdown",
   "id": "297f2b7d",
   "metadata": {},
   "source": [
    "# Data Wrangling"
   ]
  },
  {
   "cell_type": "code",
   "execution_count": 1,
   "id": "b1d53d23",
   "metadata": {},
   "outputs": [],
   "source": [
    "import pandas as pd\n",
    "import numpy as np\n",
    "\n",
    "df = pd.read_csv(\"https://cf-courses-data.s3.us.cloud-object-storage.appdomain.cloud/IBM-DA0321EN-SkillsNetwork/LargeData/m1_survey_data.csv\")\n"
   ]
  },
  {
   "cell_type": "markdown",
   "id": "ca95ea2f",
   "metadata": {},
   "source": [
    "## Finding duplicates"
   ]
  },
  {
   "cell_type": "code",
   "execution_count": 2,
   "id": "d5b0f36c",
   "metadata": {},
   "outputs": [
    {
     "name": "stdout",
     "output_type": "stream",
     "text": [
      "Number of duplicate rows: 154\n"
     ]
    }
   ],
   "source": [
    "# Find how many duplicate rows exists in the df\n",
    "duplicate_rows = df.duplicated().sum()\n",
    "\n",
    "print(f\"Number of duplicate rows: {duplicate_rows}\")"
   ]
  },
  {
   "cell_type": "markdown",
   "id": "acc1fae4",
   "metadata": {},
   "source": [
    "## Removing duplicates"
   ]
  },
  {
   "cell_type": "code",
   "execution_count": 3,
   "id": "81dfb7e6",
   "metadata": {},
   "outputs": [
    {
     "name": "stdout",
     "output_type": "stream",
     "text": [
      "Number of rows after removing duplicates: 11398\n"
     ]
    }
   ],
   "source": [
    "# Remove the duplicate rows from the dataframe\n",
    "df_clean = df.drop_duplicates()\n",
    "\n",
    "print(f\"Number of rows after removing duplicates: {df_clean.shape[0]}\")"
   ]
  },
  {
   "cell_type": "code",
   "execution_count": 4,
   "id": "4c98725f",
   "metadata": {},
   "outputs": [
    {
     "data": {
      "text/plain": [
       "0"
      ]
     },
     "execution_count": 4,
     "metadata": {},
     "output_type": "execute_result"
    }
   ],
   "source": [
    "# Verifying if duplicates were dropped\n",
    "duplicate_rows = df_clean.duplicated().sum()\n",
    "duplicate_rows"
   ]
  },
  {
   "cell_type": "markdown",
   "id": "6fdca17f",
   "metadata": {},
   "source": [
    "## Finding Missing values"
   ]
  },
  {
   "cell_type": "code",
   "execution_count": 5,
   "id": "21b1c528",
   "metadata": {},
   "outputs": [
    {
     "name": "stdout",
     "output_type": "stream",
     "text": [
      "Respondent        0\n",
      "MainBranch        0\n",
      "Hobbyist          0\n",
      "OpenSourcer       0\n",
      "OpenSource       81\n",
      "               ... \n",
      "Sexuality       542\n",
      "Ethnicity       675\n",
      "Dependents      140\n",
      "SurveyLength     19\n",
      "SurveyEase       14\n",
      "Length: 85, dtype: int64\n"
     ]
    }
   ],
   "source": [
    "# Find the missing values for all columns\n",
    "missing_values = df_clean.isnull().sum()\n",
    "\n",
    "print(missing_values)"
   ]
  },
  {
   "cell_type": "code",
   "execution_count": 6,
   "id": "18d01337",
   "metadata": {},
   "outputs": [
    {
     "name": "stdout",
     "output_type": "stream",
     "text": [
      "Number of missing rows in WorkLoc: 32\n"
     ]
    }
   ],
   "source": [
    "# Find out how many rows are missing in the column 'WorkLoc'\n",
    "missing_workloc = df_clean['WorkLoc'].isnull().sum()\n",
    "\n",
    "print(f\"Number of missing rows in WorkLoc: {missing_workloc}\")"
   ]
  },
  {
   "cell_type": "markdown",
   "id": "8793ddca",
   "metadata": {},
   "source": [
    "## Imputing missing values\n"
   ]
  },
  {
   "cell_type": "code",
   "execution_count": 7,
   "id": "e6292013",
   "metadata": {},
   "outputs": [
    {
     "data": {
      "text/plain": [
       "WorkLoc\n",
       "Office                                            6806\n",
       "Home                                              3589\n",
       "Other place, such as a coworking space or cafe     971\n",
       "Name: count, dtype: int64"
      ]
     },
     "execution_count": 7,
     "metadata": {},
     "output_type": "execute_result"
    }
   ],
   "source": [
    "# Find the value counts for the column WorkLoc.\n",
    "\n",
    "df_clean['WorkLoc'].value_counts() # counts freq of unique values in each column"
   ]
  },
  {
   "cell_type": "code",
   "execution_count": 8,
   "id": "4df0683d",
   "metadata": {},
   "outputs": [
    {
     "name": "stdout",
     "output_type": "stream",
     "text": [
      "Office\n"
     ]
    }
   ],
   "source": [
    "# Identify the value that is most frequent (majority) in the WorkLoc column.\\\n",
    "most_freq = df_clean['WorkLoc'].mode().iloc[0] # iloc[0] is used to get the first mode\n",
    "\n",
    "print(most_freq)"
   ]
  },
  {
   "cell_type": "code",
   "execution_count": 9,
   "id": "5e4f7909",
   "metadata": {},
   "outputs": [
    {
     "name": "stderr",
     "output_type": "stream",
     "text": [
      "C:\\Users\\Steven\\AppData\\Local\\Temp\\ipykernel_172244\\1716282950.py:3: SettingWithCopyWarning: \n",
      "A value is trying to be set on a copy of a slice from a DataFrame\n",
      "\n",
      "See the caveats in the documentation: https://pandas.pydata.org/pandas-docs/stable/user_guide/indexing.html#returning-a-view-versus-a-copy\n",
      "  df_clean['WorkLoc'].replace('', most_freq, inplace=True) # replace empty strings\n",
      "C:\\Users\\Steven\\AppData\\Local\\Temp\\ipykernel_172244\\1716282950.py:4: SettingWithCopyWarning: \n",
      "A value is trying to be set on a copy of a slice from a DataFrame\n",
      "\n",
      "See the caveats in the documentation: https://pandas.pydata.org/pandas-docs/stable/user_guide/indexing.html#returning-a-view-versus-a-copy\n",
      "  df_clean['WorkLoc'].fillna(most_freq, inplace=True) # replace NaN values\n"
     ]
    }
   ],
   "source": [
    "# Impute (replace) all the empty rows in the column WorkLoc with the value that you have identified as majority.\n",
    "\n",
    "df_clean['WorkLoc'].replace('', most_freq, inplace=True) # replace empty strings\n",
    "df_clean['WorkLoc'].fillna(most_freq, inplace=True) # replace NaN values"
   ]
  },
  {
   "cell_type": "code",
   "execution_count": 10,
   "id": "f8b42f17",
   "metadata": {},
   "outputs": [
    {
     "name": "stdout",
     "output_type": "stream",
     "text": [
      "0\n"
     ]
    }
   ],
   "source": [
    "# Veirfy if imputing was successful\n",
    "update_missing = df_clean['WorkLoc'].isnull().sum()\n",
    "print(update_missing)"
   ]
  },
  {
   "cell_type": "markdown",
   "id": "8a3950b6",
   "metadata": {},
   "source": [
    "# Normalizing data"
   ]
  },
  {
   "cell_type": "markdown",
   "id": "5bd70a40",
   "metadata": {},
   "source": [
    "There are two columns in the dataset that talk about compensation.\n",
    "\n",
    "One is \"CompFreq\". This column shows how often a developer is paid (Yearly, Monthly, Weekly).\n",
    "\n",
    "The other is \"CompTotal\". This column talks about how much the developer is paid per Year, Month, or Week depending upon his/her \"CompFreq\".\n",
    "\n",
    "This makes it difficult to compare the total compensation of the developers.\n",
    "\n",
    "Create a new column called 'NormalizedAnnualCompensation' which contains the 'Annual Compensation' irrespective of the 'CompFreq'.\n",
    "\n",
    "It makes comparison of salaries easy.\n"
   ]
  },
  {
   "cell_type": "markdown",
   "id": "7eb50e8b",
   "metadata": {},
   "source": [
    "### List out the various categories in the column 'CompFreq'"
   ]
  },
  {
   "cell_type": "code",
   "execution_count": 11,
   "id": "02731943",
   "metadata": {},
   "outputs": [
    {
     "name": "stdout",
     "output_type": "stream",
     "text": [
      "CompFreq\n",
      "Yearly     6073\n",
      "Monthly    4788\n",
      "Weekly      331\n",
      "Name: count, dtype: int64\n"
     ]
    }
   ],
   "source": [
    "categories = df_clean['CompFreq'].value_counts()\n",
    "print(categories)"
   ]
  },
  {
   "cell_type": "markdown",
   "id": "7ca07aa8",
   "metadata": {},
   "source": [
    "### Create a new column named 'NormalizedAnnualCompensation'. "
   ]
  },
  {
   "cell_type": "code",
   "execution_count": 12,
   "id": "23671f66",
   "metadata": {},
   "outputs": [
    {
     "name": "stderr",
     "output_type": "stream",
     "text": [
      "C:\\Users\\Steven\\AppData\\Local\\Temp\\ipykernel_172244\\12108731.py:11: SettingWithCopyWarning: \n",
      "A value is trying to be set on a copy of a slice from a DataFrame.\n",
      "Try using .loc[row_indexer,col_indexer] = value instead\n",
      "\n",
      "See the caveats in the documentation: https://pandas.pydata.org/pandas-docs/stable/user_guide/indexing.html#returning-a-view-versus-a-copy\n",
      "  df_clean['NormalizedAnnualCompensation'] = df_clean.apply(calculate_Annual_Compensation, axis=1)\n"
     ]
    }
   ],
   "source": [
    "\n",
    "def calculate_Annual_Compensation(row):\n",
    "    if row['CompFreq'] == 'Yearly':\n",
    "        return row['CompTotal']\n",
    "    elif row['CompFreq'] == 'Monthly':\n",
    "        return row['CompTotal'] * 12\n",
    "    elif row['CompFreq'] == 'Weekly':\n",
    "        return row['CompTotal'] * 52\n",
    "    else:\n",
    "        return np.nan\n",
    "    \n",
    "df_clean['NormalizedAnnualCompensation'] = df_clean.apply(calculate_Annual_Compensation, axis=1)"
   ]
  },
  {
   "cell_type": "code",
   "execution_count": 16,
   "id": "0033dfca",
   "metadata": {},
   "outputs": [
    {
     "data": {
      "text/plain": [
       "0         61000.0\n",
       "1        138000.0\n",
       "2         90000.0\n",
       "3        348000.0\n",
       "4         90000.0\n",
       "           ...   \n",
       "11547    130000.0\n",
       "11548     74400.0\n",
       "11549    105000.0\n",
       "11550     80000.0\n",
       "11551         NaN\n",
       "Name: NormalizedAnnualCompensation, Length: 11398, dtype: float64"
      ]
     },
     "execution_count": 16,
     "metadata": {},
     "output_type": "execute_result"
    }
   ],
   "source": [
    "compensation = df_clean['NormalizedAnnualCompensation']\n",
    "compensation"
   ]
  }
 ],
 "metadata": {
  "kernelspec": {
   "display_name": "Python 3 (ipykernel)",
   "language": "python",
   "name": "python3"
  },
  "language_info": {
   "codemirror_mode": {
    "name": "ipython",
    "version": 3
   },
   "file_extension": ".py",
   "mimetype": "text/x-python",
   "name": "python",
   "nbconvert_exporter": "python",
   "pygments_lexer": "ipython3",
   "version": "3.11.7"
  }
 },
 "nbformat": 4,
 "nbformat_minor": 5
}
