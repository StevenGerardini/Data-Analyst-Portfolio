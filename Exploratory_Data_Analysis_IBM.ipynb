{
 "cells": [
  {
   "cell_type": "markdown",
   "id": "8812d83c",
   "metadata": {},
   "source": [
    "# Explore the Data Set"
   ]
  },
  {
   "cell_type": "code",
   "execution_count": 1,
   "id": "73894ae5",
   "metadata": {},
   "outputs": [],
   "source": [
    "# Required libraries\n",
    "import pandas as pd\n",
    "import numpy as np\n",
    "import seaborn as sns\n",
    "import matplotlib.pyplot as plt\n"
   ]
  },
  {
   "cell_type": "markdown",
   "id": "51c13b5d",
   "metadata": {},
   "source": [
    "Load the dataset into a dataframe"
   ]
  },
  {
   "cell_type": "code",
   "execution_count": 2,
   "id": "e2d234fb",
   "metadata": {},
   "outputs": [],
   "source": [
    "df = pd.read_csv(\"https://cf-courses-data.s3.us.cloud-object-storage.appdomain.cloud/IBM-DA0321EN-SkillsNetwork/LargeData/m2_survey_data.csv\")"
   ]
  },
  {
   "cell_type": "markdown",
   "id": "0b922d67",
   "metadata": {},
   "source": [
    "Display the top 5 rows from the dataset"
   ]
  },
  {
   "cell_type": "code",
   "execution_count": 3,
   "id": "8da2748d",
   "metadata": {},
   "outputs": [
    {
     "data": {
      "text/html": [
       "<div>\n",
       "<style scoped>\n",
       "    .dataframe tbody tr th:only-of-type {\n",
       "        vertical-align: middle;\n",
       "    }\n",
       "\n",
       "    .dataframe tbody tr th {\n",
       "        vertical-align: top;\n",
       "    }\n",
       "\n",
       "    .dataframe thead th {\n",
       "        text-align: right;\n",
       "    }\n",
       "</style>\n",
       "<table border=\"1\" class=\"dataframe\">\n",
       "  <thead>\n",
       "    <tr style=\"text-align: right;\">\n",
       "      <th></th>\n",
       "      <th>Respondent</th>\n",
       "      <th>MainBranch</th>\n",
       "      <th>Hobbyist</th>\n",
       "      <th>OpenSourcer</th>\n",
       "      <th>OpenSource</th>\n",
       "      <th>Employment</th>\n",
       "      <th>Country</th>\n",
       "      <th>Student</th>\n",
       "      <th>EdLevel</th>\n",
       "      <th>UndergradMajor</th>\n",
       "      <th>...</th>\n",
       "      <th>WelcomeChange</th>\n",
       "      <th>SONewContent</th>\n",
       "      <th>Age</th>\n",
       "      <th>Gender</th>\n",
       "      <th>Trans</th>\n",
       "      <th>Sexuality</th>\n",
       "      <th>Ethnicity</th>\n",
       "      <th>Dependents</th>\n",
       "      <th>SurveyLength</th>\n",
       "      <th>SurveyEase</th>\n",
       "    </tr>\n",
       "  </thead>\n",
       "  <tbody>\n",
       "    <tr>\n",
       "      <th>0</th>\n",
       "      <td>4</td>\n",
       "      <td>I am a developer by profession</td>\n",
       "      <td>No</td>\n",
       "      <td>Never</td>\n",
       "      <td>The quality of OSS and closed source software ...</td>\n",
       "      <td>Employed full-time</td>\n",
       "      <td>United States</td>\n",
       "      <td>No</td>\n",
       "      <td>Bachelor’s degree (BA, BS, B.Eng., etc.)</td>\n",
       "      <td>Computer science, computer engineering, or sof...</td>\n",
       "      <td>...</td>\n",
       "      <td>Just as welcome now as I felt last year</td>\n",
       "      <td>Tech articles written by other developers;Indu...</td>\n",
       "      <td>22.0</td>\n",
       "      <td>Man</td>\n",
       "      <td>No</td>\n",
       "      <td>Straight / Heterosexual</td>\n",
       "      <td>White or of European descent</td>\n",
       "      <td>No</td>\n",
       "      <td>Appropriate in length</td>\n",
       "      <td>Easy</td>\n",
       "    </tr>\n",
       "    <tr>\n",
       "      <th>1</th>\n",
       "      <td>9</td>\n",
       "      <td>I am a developer by profession</td>\n",
       "      <td>Yes</td>\n",
       "      <td>Once a month or more often</td>\n",
       "      <td>The quality of OSS and closed source software ...</td>\n",
       "      <td>Employed full-time</td>\n",
       "      <td>New Zealand</td>\n",
       "      <td>No</td>\n",
       "      <td>Some college/university study without earning ...</td>\n",
       "      <td>Computer science, computer engineering, or sof...</td>\n",
       "      <td>...</td>\n",
       "      <td>Just as welcome now as I felt last year</td>\n",
       "      <td>NaN</td>\n",
       "      <td>23.0</td>\n",
       "      <td>Man</td>\n",
       "      <td>No</td>\n",
       "      <td>Bisexual</td>\n",
       "      <td>White or of European descent</td>\n",
       "      <td>No</td>\n",
       "      <td>Appropriate in length</td>\n",
       "      <td>Neither easy nor difficult</td>\n",
       "    </tr>\n",
       "    <tr>\n",
       "      <th>2</th>\n",
       "      <td>13</td>\n",
       "      <td>I am a developer by profession</td>\n",
       "      <td>Yes</td>\n",
       "      <td>Less than once a month but more than once per ...</td>\n",
       "      <td>OSS is, on average, of HIGHER quality than pro...</td>\n",
       "      <td>Employed full-time</td>\n",
       "      <td>United States</td>\n",
       "      <td>No</td>\n",
       "      <td>Master’s degree (MA, MS, M.Eng., MBA, etc.)</td>\n",
       "      <td>Computer science, computer engineering, or sof...</td>\n",
       "      <td>...</td>\n",
       "      <td>Somewhat more welcome now than last year</td>\n",
       "      <td>Tech articles written by other developers;Cour...</td>\n",
       "      <td>28.0</td>\n",
       "      <td>Man</td>\n",
       "      <td>No</td>\n",
       "      <td>Straight / Heterosexual</td>\n",
       "      <td>White or of European descent</td>\n",
       "      <td>Yes</td>\n",
       "      <td>Appropriate in length</td>\n",
       "      <td>Easy</td>\n",
       "    </tr>\n",
       "    <tr>\n",
       "      <th>3</th>\n",
       "      <td>16</td>\n",
       "      <td>I am a developer by profession</td>\n",
       "      <td>Yes</td>\n",
       "      <td>Never</td>\n",
       "      <td>The quality of OSS and closed source software ...</td>\n",
       "      <td>Employed full-time</td>\n",
       "      <td>United Kingdom</td>\n",
       "      <td>No</td>\n",
       "      <td>Master’s degree (MA, MS, M.Eng., MBA, etc.)</td>\n",
       "      <td>NaN</td>\n",
       "      <td>...</td>\n",
       "      <td>Just as welcome now as I felt last year</td>\n",
       "      <td>Tech articles written by other developers;Indu...</td>\n",
       "      <td>26.0</td>\n",
       "      <td>Man</td>\n",
       "      <td>No</td>\n",
       "      <td>Straight / Heterosexual</td>\n",
       "      <td>White or of European descent</td>\n",
       "      <td>No</td>\n",
       "      <td>Appropriate in length</td>\n",
       "      <td>Neither easy nor difficult</td>\n",
       "    </tr>\n",
       "    <tr>\n",
       "      <th>4</th>\n",
       "      <td>17</td>\n",
       "      <td>I am a developer by profession</td>\n",
       "      <td>Yes</td>\n",
       "      <td>Less than once a month but more than once per ...</td>\n",
       "      <td>The quality of OSS and closed source software ...</td>\n",
       "      <td>Employed full-time</td>\n",
       "      <td>Australia</td>\n",
       "      <td>No</td>\n",
       "      <td>Bachelor’s degree (BA, BS, B.Eng., etc.)</td>\n",
       "      <td>Computer science, computer engineering, or sof...</td>\n",
       "      <td>...</td>\n",
       "      <td>Just as welcome now as I felt last year</td>\n",
       "      <td>Tech articles written by other developers;Indu...</td>\n",
       "      <td>29.0</td>\n",
       "      <td>Man</td>\n",
       "      <td>No</td>\n",
       "      <td>Straight / Heterosexual</td>\n",
       "      <td>Hispanic or Latino/Latina;Multiracial</td>\n",
       "      <td>No</td>\n",
       "      <td>Appropriate in length</td>\n",
       "      <td>Easy</td>\n",
       "    </tr>\n",
       "  </tbody>\n",
       "</table>\n",
       "<p>5 rows × 85 columns</p>\n",
       "</div>"
      ],
      "text/plain": [
       "   Respondent                      MainBranch Hobbyist  \\\n",
       "0           4  I am a developer by profession       No   \n",
       "1           9  I am a developer by profession      Yes   \n",
       "2          13  I am a developer by profession      Yes   \n",
       "3          16  I am a developer by profession      Yes   \n",
       "4          17  I am a developer by profession      Yes   \n",
       "\n",
       "                                         OpenSourcer  \\\n",
       "0                                              Never   \n",
       "1                         Once a month or more often   \n",
       "2  Less than once a month but more than once per ...   \n",
       "3                                              Never   \n",
       "4  Less than once a month but more than once per ...   \n",
       "\n",
       "                                          OpenSource          Employment  \\\n",
       "0  The quality of OSS and closed source software ...  Employed full-time   \n",
       "1  The quality of OSS and closed source software ...  Employed full-time   \n",
       "2  OSS is, on average, of HIGHER quality than pro...  Employed full-time   \n",
       "3  The quality of OSS and closed source software ...  Employed full-time   \n",
       "4  The quality of OSS and closed source software ...  Employed full-time   \n",
       "\n",
       "          Country Student                                            EdLevel  \\\n",
       "0   United States      No           Bachelor’s degree (BA, BS, B.Eng., etc.)   \n",
       "1     New Zealand      No  Some college/university study without earning ...   \n",
       "2   United States      No        Master’s degree (MA, MS, M.Eng., MBA, etc.)   \n",
       "3  United Kingdom      No        Master’s degree (MA, MS, M.Eng., MBA, etc.)   \n",
       "4       Australia      No           Bachelor’s degree (BA, BS, B.Eng., etc.)   \n",
       "\n",
       "                                      UndergradMajor  ...  \\\n",
       "0  Computer science, computer engineering, or sof...  ...   \n",
       "1  Computer science, computer engineering, or sof...  ...   \n",
       "2  Computer science, computer engineering, or sof...  ...   \n",
       "3                                                NaN  ...   \n",
       "4  Computer science, computer engineering, or sof...  ...   \n",
       "\n",
       "                              WelcomeChange  \\\n",
       "0   Just as welcome now as I felt last year   \n",
       "1   Just as welcome now as I felt last year   \n",
       "2  Somewhat more welcome now than last year   \n",
       "3   Just as welcome now as I felt last year   \n",
       "4   Just as welcome now as I felt last year   \n",
       "\n",
       "                                        SONewContent   Age Gender Trans  \\\n",
       "0  Tech articles written by other developers;Indu...  22.0    Man    No   \n",
       "1                                                NaN  23.0    Man    No   \n",
       "2  Tech articles written by other developers;Cour...  28.0    Man    No   \n",
       "3  Tech articles written by other developers;Indu...  26.0    Man    No   \n",
       "4  Tech articles written by other developers;Indu...  29.0    Man    No   \n",
       "\n",
       "                 Sexuality                              Ethnicity Dependents  \\\n",
       "0  Straight / Heterosexual           White or of European descent         No   \n",
       "1                 Bisexual           White or of European descent         No   \n",
       "2  Straight / Heterosexual           White or of European descent        Yes   \n",
       "3  Straight / Heterosexual           White or of European descent         No   \n",
       "4  Straight / Heterosexual  Hispanic or Latino/Latina;Multiracial         No   \n",
       "\n",
       "            SurveyLength                  SurveyEase  \n",
       "0  Appropriate in length                        Easy  \n",
       "1  Appropriate in length  Neither easy nor difficult  \n",
       "2  Appropriate in length                        Easy  \n",
       "3  Appropriate in length  Neither easy nor difficult  \n",
       "4  Appropriate in length                        Easy  \n",
       "\n",
       "[5 rows x 85 columns]"
      ]
     },
     "execution_count": 3,
     "metadata": {},
     "output_type": "execute_result"
    }
   ],
   "source": [
    "df.head()"
   ]
  },
  {
   "cell_type": "markdown",
   "id": "c3b7415b",
   "metadata": {},
   "source": [
    "## Finding out the number of rows and columns"
   ]
  },
  {
   "cell_type": "markdown",
   "id": "82b3c0b0",
   "metadata": {},
   "source": [
    "#### Print the number of rows"
   ]
  },
  {
   "cell_type": "code",
   "execution_count": 4,
   "id": "41f4d06a",
   "metadata": {},
   "outputs": [
    {
     "data": {
      "text/plain": [
       "11398"
      ]
     },
     "execution_count": 4,
     "metadata": {},
     "output_type": "execute_result"
    }
   ],
   "source": [
    "df.shape[0]"
   ]
  },
  {
   "cell_type": "markdown",
   "id": "3db8281b",
   "metadata": {},
   "source": [
    "#### Print the number of columns"
   ]
  },
  {
   "cell_type": "code",
   "execution_count": 5,
   "id": "ffddb65c",
   "metadata": {},
   "outputs": [
    {
     "data": {
      "text/plain": [
       "85"
      ]
     },
     "execution_count": 5,
     "metadata": {},
     "output_type": "execute_result"
    }
   ],
   "source": [
    "df.shape[1]"
   ]
  },
  {
   "cell_type": "markdown",
   "id": "deab8f2f",
   "metadata": {},
   "source": [
    "## Identify the data types of each column"
   ]
  },
  {
   "cell_type": "code",
   "execution_count": 6,
   "id": "e0aed6fd",
   "metadata": {},
   "outputs": [
    {
     "name": "stdout",
     "output_type": "stream",
     "text": [
      "Respondent       int64\n",
      "MainBranch      object\n",
      "Hobbyist        object\n",
      "OpenSourcer     object\n",
      "OpenSource      object\n",
      "                 ...  \n",
      "Sexuality       object\n",
      "Ethnicity       object\n",
      "Dependents      object\n",
      "SurveyLength    object\n",
      "SurveyEase      object\n",
      "Length: 85, dtype: object\n"
     ]
    }
   ],
   "source": [
    "print(df.dtypes)"
   ]
  },
  {
   "cell_type": "markdown",
   "id": "5a7d8348",
   "metadata": {},
   "source": [
    "#### Print the mean age of the survey participants"
   ]
  },
  {
   "cell_type": "code",
   "execution_count": 7,
   "id": "1bfcff38",
   "metadata": {},
   "outputs": [
    {
     "name": "stdout",
     "output_type": "stream",
     "text": [
      "30.778894788947888\n"
     ]
    }
   ],
   "source": [
    "avg = df['Age'].mean()\n",
    "print(avg)"
   ]
  },
  {
   "cell_type": "markdown",
   "id": "b6bfb120",
   "metadata": {},
   "source": [
    "#### How many unique countries are there in the Country column."
   ]
  },
  {
   "cell_type": "code",
   "execution_count": 8,
   "id": "30c79e76",
   "metadata": {},
   "outputs": [
    {
     "name": "stdout",
     "output_type": "stream",
     "text": [
      "135\n"
     ]
    }
   ],
   "source": [
    "uniqueCountries = df['Country'].nunique()\n",
    "print(uniqueCountries)"
   ]
  },
  {
   "cell_type": "markdown",
   "id": "1706022e",
   "metadata": {},
   "source": [
    "## Distribution\n",
    "### Determine how the data is distributed\n",
    "The column `ConvertedComp` contains Salary converted to annual USD salaries using the exchange rate on 2019-02-01.\n",
    "\n",
    "This assumes 12 working months and 50 working weeks.\n"
   ]
  },
  {
   "cell_type": "markdown",
   "id": "8e9ce435",
   "metadata": {},
   "source": [
    "### Plot the distribution curve for the column ConvertedComp."
   ]
  },
  {
   "cell_type": "code",
   "execution_count": 9,
   "id": "3216e785",
   "metadata": {},
   "outputs": [
    {
     "name": "stderr",
     "output_type": "stream",
     "text": [
      "C:\\Users\\Steven\\AppData\\Local\\Temp\\ipykernel_179028\\124141490.py:1: UserWarning: \n",
      "\n",
      "`distplot` is a deprecated function and will be removed in seaborn v0.14.0.\n",
      "\n",
      "Please adapt your code to use either `displot` (a figure-level function with\n",
      "similar flexibility) or `histplot` (an axes-level function for histograms).\n",
      "\n",
      "For a guide to updating your code to use the new functions, please see\n",
      "https://gist.github.com/mwaskom/de44147ed2974457ad6372750bbe5751\n",
      "\n",
      "  sns.distplot(df['ConvertedComp'], kde=True)\n",
      "C:\\Users\\Steven\\anaconda3\\Lib\\site-packages\\seaborn\\_oldcore.py:1119: FutureWarning: use_inf_as_na option is deprecated and will be removed in a future version. Convert inf values to NaN before operating instead.\n",
      "  with pd.option_context('mode.use_inf_as_na', True):\n"
     ]
    },
    {
     "data": {
      "image/png": "[encoded data removed]",
      "text/plain": [
       "<Figure size 640x480 with 1 Axes>"
      ]
     },
     "metadata": {},
     "output_type": "display_data"
    }
   ],
   "source": [
    "sns.distplot(df['ConvertedComp'], kde=True)\n",
    "plt.title('Distribution Curve of Annual Compensation', fontsize=16)\n",
    "plt.xlabel('Value')\n",
    "plt.ylabel('Density')\n",
    "plt.show()"
   ]
  },
  {
   "cell_type": "markdown",
   "id": "322634b7",
   "metadata": {},
   "source": [
    "### Plot the histogram for the column ConvertedComp."
   ]
  },
  {
   "cell_type": "code",
   "execution_count": 10,
   "id": "4ebefb5a",
   "metadata": {},
   "outputs": [
    {
     "name": "stderr",
     "output_type": "stream",
     "text": [
      "C:\\Users\\Steven\\anaconda3\\Lib\\site-packages\\seaborn\\_oldcore.py:1119: FutureWarning: use_inf_as_na option is deprecated and will be removed in a future version. Convert inf values to NaN before operating instead.\n",
      "  with pd.option_context('mode.use_inf_as_na', True):\n"
     ]
    },
    {
     "data": {
      "image/png": "[encoded data removed]",
      "text/plain": [
       "<Figure size 1000x600 with 1 Axes>"
      ]
     },
     "metadata": {},
     "output_type": "display_data"
    }
   ],
   "source": [
    "plt.figure(figsize=(10, 6))\n",
    "sns.histplot(df['ConvertedComp'].dropna(), bins=30)\n",
    "\n",
    "# Adding labels and title\n",
    "plt.title('Histogram of Annual Compensation (ConvertedComp)', fontsize=16)\n",
    "plt.xlabel('Annual Compensation (USD)', fontsize=14)\n",
    "plt.ylabel('Frequency', fontsize=14)\n",
    "\n",
    "# Display the plot\n",
    "plt.show()"
   ]
  },
  {
   "cell_type": "code",
   "execution_count": 11,
   "id": "e6a5a6da",
   "metadata": {},
   "outputs": [],
   "source": [
    "median_value = df['ConvertedComp'].median()"
   ]
  },
  {
   "cell_type": "code",
   "execution_count": 12,
   "id": "b8a1f531",
   "metadata": {},
   "outputs": [
    {
     "name": "stdout",
     "output_type": "stream",
     "text": [
      "57745.0\n"
     ]
    }
   ],
   "source": [
    "print(median_value)"
   ]
  },
  {
   "cell_type": "markdown",
   "id": "7f294f9c",
   "metadata": {},
   "source": [
    "### How many responders identified themselves only as a Man?"
   ]
  },
  {
   "cell_type": "code",
   "execution_count": 13,
   "id": "befc6e6e",
   "metadata": {},
   "outputs": [
    {
     "name": "stdout",
     "output_type": "stream",
     "text": [
      "10480\n"
     ]
    }
   ],
   "source": [
    "count_man= df['Gender'].eq('Man').sum()\n",
    "print(count_man)"
   ]
  },
  {
   "cell_type": "markdown",
   "id": "2d52369d",
   "metadata": {},
   "source": [
    "### Find out the median ConvertedComp of responders identified themselves only as a Woman?"
   ]
  },
  {
   "cell_type": "code",
   "execution_count": 14,
   "id": "426c3db4",
   "metadata": {},
   "outputs": [
    {
     "name": "stdout",
     "output_type": "stream",
     "text": [
      "57708.0\n"
     ]
    }
   ],
   "source": [
    "women_responders = df[df['Gender'] == 'Woman']\n",
    "\n",
    "median_women_comp = women_responders['ConvertedComp'].median()\n",
    "\n",
    "print(median_women_comp)"
   ]
  },
  {
   "cell_type": "markdown",
   "id": "ea13a3b8",
   "metadata": {},
   "source": [
    "### Give the five number summary for the column Age?"
   ]
  },
  {
   "cell_type": "code",
   "execution_count": 15,
   "id": "d9d581e5",
   "metadata": {},
   "outputs": [
    {
     "name": "stdout",
     "output_type": "stream",
     "text": [
      "16.0 25.0 29.0 35.0 99.0\n"
     ]
    }
   ],
   "source": [
    "min_age = df['Age'].min()\n",
    "q1_age = df['Age'].quantile(0.25)\n",
    "median_age = df['Age'].median()\n",
    "q3_age = df['Age'].quantile(0.75)\n",
    "max_age = df['Age'].max()\n",
    "\n",
    "print(min_age, q1_age, median_age, q3_age, max_age)"
   ]
  },
  {
   "cell_type": "markdown",
   "id": "4ccb6385",
   "metadata": {},
   "source": [
    "### Plot a histogram of the column Age."
   ]
  },
  {
   "cell_type": "code",
   "execution_count": 16,
   "id": "06955182",
   "metadata": {},
   "outputs": [
    {
     "name": "stderr",
     "output_type": "stream",
     "text": [
      "C:\\Users\\Steven\\anaconda3\\Lib\\site-packages\\seaborn\\_oldcore.py:1119: FutureWarning: use_inf_as_na option is deprecated and will be removed in a future version. Convert inf values to NaN before operating instead.\n",
      "  with pd.option_context('mode.use_inf_as_na', True):\n"
     ]
    },
    {
     "data": {
      "image/png": "[encoded data removed]",
      "text/plain": [
       "<Figure size 640x480 with 1 Axes>"
      ]
     },
     "metadata": {},
     "output_type": "display_data"
    }
   ],
   "source": [
    "\n",
    "\n",
    "sns.histplot(df['Age'], bins=15)\n",
    "plt.title('Histogram of Age')\n",
    "plt.xlabel('Age')\n",
    "plt.ylabel('Frequency')\n",
    "plt.grid(True)\n",
    "\n",
    "plt.show()"
   ]
  },
  {
   "cell_type": "markdown",
   "id": "db2bd51f",
   "metadata": {},
   "source": [
    "## Outliers\n",
    "### Finding outliers\n",
    "Find out if outliers exist in the column `ConvertedComp` using a box plot?"
   ]
  },
  {
   "cell_type": "code",
   "execution_count": 17,
   "id": "0ae6d305",
   "metadata": {},
   "outputs": [
    {
     "data": {
      "image/png": "[encoded data removed]",
      "text/plain": [
       "<Figure size 640x480 with 1 Axes>"
      ]
     },
     "metadata": {},
     "output_type": "display_data"
    }
   ],
   "source": [
    "sns.boxplot(y=df['ConvertedComp'])\n",
    "plt.xlabel('Converted Compensation')\n",
    "plt.show()"
   ]
  },
  {
   "cell_type": "markdown",
   "id": "c13c8b2a",
   "metadata": {},
   "source": [
    "### Find out the Inter Quartile Range for the column ConvertedComp."
   ]
  },
  {
   "cell_type": "code",
   "execution_count": 18,
   "id": "ddcfe415",
   "metadata": {},
   "outputs": [
    {
     "name": "stdout",
     "output_type": "stream",
     "text": [
      "73132.0\n"
     ]
    }
   ],
   "source": [
    "q1 = df['ConvertedComp'].quantile(0.25)\n",
    "q3 = df['ConvertedComp'].quantile(0.75)\n",
    "IQR = q3 - q1\n",
    "print(IQR)"
   ]
  },
  {
   "cell_type": "markdown",
   "id": "d3a4dc12",
   "metadata": {},
   "source": [
    "### Find out the upper and lower bounds."
   ]
  },
  {
   "cell_type": "code",
   "execution_count": 19,
   "id": "a09f4830",
   "metadata": {},
   "outputs": [
    {
     "name": "stdout",
     "output_type": "stream",
     "text": [
      "-82830.0 : 209698.0\n"
     ]
    }
   ],
   "source": [
    "lower_bound = q1 - 1.5 * IQR\n",
    "upper_bound = q3 + 1.5 * IQR\n",
    "\n",
    "print(f\"{lower_bound} : {upper_bound}\")"
   ]
  },
  {
   "cell_type": "markdown",
   "id": "402a7850",
   "metadata": {},
   "source": [
    "### Identify how many outliers are there in the `ConvertedComp` column.\n"
   ]
  },
  {
   "cell_type": "code",
   "execution_count": 20,
   "id": "3547e14f",
   "metadata": {},
   "outputs": [
    {
     "name": "stdout",
     "output_type": "stream",
     "text": [
      "879\n"
     ]
    }
   ],
   "source": [
    "outliers = df[(df['ConvertedComp'] < lower_bound) | (df['ConvertedComp'] > upper_bound)]\n",
    "\n",
    "num_outliers = outliers.shape[0]\n",
    "print(num_outliers)"
   ]
  },
  {
   "cell_type": "code",
   "execution_count": 21,
   "id": "df79f05c",
   "metadata": {},
   "outputs": [
    {
     "name": "stdout",
     "output_type": "stream",
     "text": [
      "0\n"
     ]
    }
   ],
   "source": [
    "outliers = df[(df['ConvertedComp'] < lower_bound)]\n",
    "\n",
    "num_outlier_below_q1 = outliers.shape[0]\n",
    "print(num_outlier_below_q1)"
   ]
  },
  {
   "cell_type": "markdown",
   "id": "c93637d9",
   "metadata": {},
   "source": [
    "### Create a new dataframe by removing the outliers from the ConvertedComp column."
   ]
  },
  {
   "cell_type": "code",
   "execution_count": 22,
   "id": "3282cd75",
   "metadata": {},
   "outputs": [
    {
     "name": "stdout",
     "output_type": "stream",
     "text": [
      "       Respondent                      MainBranch Hobbyist  \\\n",
      "0               4  I am a developer by profession       No   \n",
      "1               9  I am a developer by profession      Yes   \n",
      "2              13  I am a developer by profession      Yes   \n",
      "4              17  I am a developer by profession      Yes   \n",
      "5              19  I am a developer by profession      Yes   \n",
      "...           ...                             ...      ...   \n",
      "11392       25134  I am a developer by profession      Yes   \n",
      "11393       25136  I am a developer by profession      Yes   \n",
      "11394       25137  I am a developer by profession      Yes   \n",
      "11395       25138  I am a developer by profession      Yes   \n",
      "11396       25141  I am a developer by profession      Yes   \n",
      "\n",
      "                                             OpenSourcer  \\\n",
      "0                                                  Never   \n",
      "1                             Once a month or more often   \n",
      "2      Less than once a month but more than once per ...   \n",
      "4      Less than once a month but more than once per ...   \n",
      "5                                                  Never   \n",
      "...                                                  ...   \n",
      "11392  Less than once a month but more than once per ...   \n",
      "11393                                              Never   \n",
      "11394                                              Never   \n",
      "11395                            Less than once per year   \n",
      "11396  Less than once a month but more than once per ...   \n",
      "\n",
      "                                              OpenSource          Employment  \\\n",
      "0      The quality of OSS and closed source software ...  Employed full-time   \n",
      "1      The quality of OSS and closed source software ...  Employed full-time   \n",
      "2      OSS is, on average, of HIGHER quality than pro...  Employed full-time   \n",
      "4      The quality of OSS and closed source software ...  Employed full-time   \n",
      "5      The quality of OSS and closed source software ...  Employed full-time   \n",
      "...                                                  ...                 ...   \n",
      "11392  OSS is, on average, of HIGHER quality than pro...  Employed full-time   \n",
      "11393  OSS is, on average, of HIGHER quality than pro...  Employed full-time   \n",
      "11394  The quality of OSS and closed source software ...  Employed full-time   \n",
      "11395  The quality of OSS and closed source software ...  Employed full-time   \n",
      "11396  OSS is, on average, of LOWER quality than prop...  Employed full-time   \n",
      "\n",
      "             Country Student  \\\n",
      "0      United States      No   \n",
      "1        New Zealand      No   \n",
      "2      United States      No   \n",
      "4          Australia      No   \n",
      "5             Brazil      No   \n",
      "...              ...     ...   \n",
      "11392        Ecuador      No   \n",
      "11393  United States      No   \n",
      "11394         Poland      No   \n",
      "11395  United States      No   \n",
      "11396    Switzerland      No   \n",
      "\n",
      "                                                 EdLevel  \\\n",
      "0               Bachelor’s degree (BA, BS, B.Eng., etc.)   \n",
      "1      Some college/university study without earning ...   \n",
      "2            Master’s degree (MA, MS, M.Eng., MBA, etc.)   \n",
      "4               Bachelor’s degree (BA, BS, B.Eng., etc.)   \n",
      "5      Some college/university study without earning ...   \n",
      "...                                                  ...   \n",
      "11392           Bachelor’s degree (BA, BS, B.Eng., etc.)   \n",
      "11393        Master’s degree (MA, MS, M.Eng., MBA, etc.)   \n",
      "11394        Master’s degree (MA, MS, M.Eng., MBA, etc.)   \n",
      "11395        Master’s degree (MA, MS, M.Eng., MBA, etc.)   \n",
      "11396  Secondary school (e.g. American high school, G...   \n",
      "\n",
      "                                          UndergradMajor  ...  \\\n",
      "0      Computer science, computer engineering, or sof...  ...   \n",
      "1      Computer science, computer engineering, or sof...  ...   \n",
      "2      Computer science, computer engineering, or sof...  ...   \n",
      "4      Computer science, computer engineering, or sof...  ...   \n",
      "5      Computer science, computer engineering, or sof...  ...   \n",
      "...                                                  ...  ...   \n",
      "11392  Computer science, computer engineering, or sof...  ...   \n",
      "11393  Computer science, computer engineering, or sof...  ...   \n",
      "11394  Computer science, computer engineering, or sof...  ...   \n",
      "11395  Computer science, computer engineering, or sof...  ...   \n",
      "11396                                                NaN  ...   \n",
      "\n",
      "                                  WelcomeChange  \\\n",
      "0       Just as welcome now as I felt last year   \n",
      "1       Just as welcome now as I felt last year   \n",
      "2      Somewhat more welcome now than last year   \n",
      "4       Just as welcome now as I felt last year   \n",
      "5       Just as welcome now as I felt last year   \n",
      "...                                         ...   \n",
      "11392  Somewhat less welcome now than last year   \n",
      "11393   Just as welcome now as I felt last year   \n",
      "11394     A lot more welcome now than last year   \n",
      "11395     A lot more welcome now than last year   \n",
      "11396  Somewhat less welcome now than last year   \n",
      "\n",
      "                                            SONewContent   Age Gender Trans  \\\n",
      "0      Tech articles written by other developers;Indu...  22.0    Man    No   \n",
      "1                                                    NaN  23.0    Man    No   \n",
      "2      Tech articles written by other developers;Cour...  28.0    Man    No   \n",
      "4      Tech articles written by other developers;Indu...  29.0    Man    No   \n",
      "5      Tech articles written by other developers;Indu...  31.0    Man    No   \n",
      "...                                                  ...   ...    ...   ...   \n",
      "11392          Tech articles written by other developers  32.0    Man    No   \n",
      "11393  Tech articles written by other developers;Cour...  36.0    Man    No   \n",
      "11394  Tech articles written by other developers;Tech...  25.0    Man    No   \n",
      "11395  Tech articles written by other developers;Indu...  34.0    Man    No   \n",
      "11396                                                NaN  25.0    Man    No   \n",
      "\n",
      "                     Sexuality                              Ethnicity  \\\n",
      "0      Straight / Heterosexual           White or of European descent   \n",
      "1                     Bisexual           White or of European descent   \n",
      "2      Straight / Heterosexual           White or of European descent   \n",
      "4      Straight / Heterosexual  Hispanic or Latino/Latina;Multiracial   \n",
      "5      Straight / Heterosexual              Hispanic or Latino/Latina   \n",
      "...                        ...                                    ...   \n",
      "11392  Straight / Heterosexual              Hispanic or Latino/Latina   \n",
      "11393  Straight / Heterosexual           White or of European descent   \n",
      "11394  Straight / Heterosexual           White or of European descent   \n",
      "11395  Straight / Heterosexual           White or of European descent   \n",
      "11396  Straight / Heterosexual           White or of European descent   \n",
      "\n",
      "      Dependents           SurveyLength                  SurveyEase  \n",
      "0             No  Appropriate in length                        Easy  \n",
      "1             No  Appropriate in length  Neither easy nor difficult  \n",
      "2            Yes  Appropriate in length                        Easy  \n",
      "4             No  Appropriate in length                        Easy  \n",
      "5            Yes               Too long                        Easy  \n",
      "...          ...                    ...                         ...  \n",
      "11392         No  Appropriate in length                        Easy  \n",
      "11393         No  Appropriate in length                   Difficult  \n",
      "11394         No  Appropriate in length  Neither easy nor difficult  \n",
      "11395        Yes               Too long                        Easy  \n",
      "11396         No  Appropriate in length                        Easy  \n",
      "\n",
      "[9703 rows x 85 columns]\n"
     ]
    }
   ],
   "source": [
    "new_df = df[(df['ConvertedComp'] >= lower_bound) & (df['ConvertedComp'] <= upper_bound)]\n",
    "\n",
    "print(new_df)"
   ]
  },
  {
   "cell_type": "markdown",
   "id": "d2a3b795",
   "metadata": {},
   "source": [
    "## Correlation\n",
    "### Finding correlation\n",
    "Find the correlation between `Age` and all other numerical columns."
   ]
  },
  {
   "cell_type": "code",
   "execution_count": 23,
   "id": "61585872",
   "metadata": {},
   "outputs": [
    {
     "name": "stdout",
     "output_type": "stream",
     "text": [
      "Respondent       0.002180\n",
      "CompTotal        0.006337\n",
      "ConvertedComp    0.401821\n",
      "WorkWeekHrs      0.032032\n",
      "CodeRevHrs      -0.012878\n",
      "Age              1.000000\n",
      "Name: Age, dtype: float64\n"
     ]
    }
   ],
   "source": [
    "numeric_df = new_df.select_dtypes(include=['number'])\n",
    "\n",
    "correlation = numeric_df.corr()\n",
    "\n",
    "age_correlation = correlation['Age']\n",
    "print(age_correlation)"
   ]
  }
 ],
 "metadata": {
  "kernelspec": {
   "display_name": "Python 3 (ipykernel)",
   "language": "python",
   "name": "python3"
  },
  "language_info": {
   "codemirror_mode": {
    "name": "ipython",
    "version": 3
   },
   "file_extension": ".py",
   "mimetype": "text/x-python",
   "name": "python",
   "nbconvert_exporter": "python",
   "pygments_lexer": "ipython3",
   "version": "3.11.7"
  }
 },
 "nbformat": 4,
 "nbformat_minor": 5
}
